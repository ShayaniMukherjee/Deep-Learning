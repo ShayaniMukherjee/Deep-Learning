{
 "cells": [
  {
   "cell_type": "markdown",
   "id": "7a663ad5",
   "metadata": {},
   "source": [
    "# Single Layer Neural Network"
   ]
  },
  {
   "cell_type": "code",
   "execution_count": 7,
   "id": "feff55c7",
   "metadata": {},
   "outputs": [],
   "source": [
    "import numpy as np"
   ]
  },
  {
   "cell_type": "code",
   "execution_count": 8,
   "id": "093ab989",
   "metadata": {},
   "outputs": [],
   "source": [
    "#Sigmoid Function\n",
    "def nonlin(x, deriv = False):\n",
    "    if(deriv == True):\n",
    "        return x*(1-x)\n",
    "    return 1/(1+np.exp(-x))"
   ]
  },
  {
   "cell_type": "code",
   "execution_count": 9,
   "id": "c4419a7c",
   "metadata": {},
   "outputs": [],
   "source": [
    "x = np.array([\n",
    "    [0,0,1],\n",
    "    [0,1,1],\n",
    "    [0,1,0],\n",
    "    [1,1,1]\n",
    "])\n",
    "y = np.array([[0,0,1,1]]).T"
   ]
  },
  {
   "cell_type": "code",
   "execution_count": 10,
   "id": "a9771187",
   "metadata": {},
   "outputs": [],
   "source": [
    "np.random.seed(1)"
   ]
  },
  {
   "cell_type": "code",
   "execution_count": 11,
   "id": "84d47aa8",
   "metadata": {},
   "outputs": [],
   "source": [
    "w0 = 2 * np.random.random((3,1)) -1"
   ]
  },
  {
   "cell_type": "code",
   "execution_count": 12,
   "id": "cba26953",
   "metadata": {},
   "outputs": [
    {
     "name": "stdout",
     "output_type": "stream",
     "text": [
      "After the training, Output is:\n",
      "[[0.0021936 ]\n",
      " [0.04824605]\n",
      " [0.95843414]\n",
      " [0.96610553]]\n"
     ]
    }
   ],
   "source": [
    "for iter in range(1000):\n",
    "    l0 = x\n",
    "    l1 = np.dot(l0,w0)\n",
    "    l1 = nonlin(l1)\n",
    "    l1_error = y - l1\n",
    "    delta_l1 = l1_error * nonlin(l1, True)\n",
    "    w0 = w0 + np.dot(l0.T, delta_l1)\n",
    "print(\"After the training, Output is:\")\n",
    "print(l1)"
   ]
  },
  {
   "cell_type": "code",
   "execution_count": null,
   "id": "2d7d6c54",
   "metadata": {},
   "outputs": [],
   "source": []
  },
  {
   "cell_type": "code",
   "execution_count": null,
   "id": "51ac6c40",
   "metadata": {},
   "outputs": [],
   "source": []
  }
 ],
 "metadata": {
  "kernelspec": {
   "display_name": "Python 3",
   "language": "python",
   "name": "python3"
  },
  "language_info": {
   "codemirror_mode": {
    "name": "ipython",
    "version": 3
   },
   "file_extension": ".py",
   "mimetype": "text/x-python",
   "name": "python",
   "nbconvert_exporter": "python",
   "pygments_lexer": "ipython3",
   "version": "3.8.8"
  }
 },
 "nbformat": 4,
 "nbformat_minor": 5
}
